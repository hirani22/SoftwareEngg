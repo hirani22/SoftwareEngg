{
  "nbformat": 4,
  "nbformat_minor": 0,
  "metadata": {
    "colab": {
      "name": "EquationSolver.ipynb",
      "provenance": [],
      "include_colab_link": true
    },
    "kernelspec": {
      "display_name": "Python 3",
      "name": "python3"
    },
    "language_info": {
      "name": "python"
    }
  },
  "cells": [
    {
      "cell_type": "markdown",
      "metadata": {
        "id": "view-in-github",
        "colab_type": "text"
      },
      "source": [
        "<a href=\"https://colab.research.google.com/github/hirani22/SoftwareEngg/blob/main/EquationSolver.ipynb\" target=\"_parent\"><img src=\"https://colab.research.google.com/assets/colab-badge.svg\" alt=\"Open In Colab\"/></a>"
      ]
    },
    {
      "cell_type": "markdown",
      "metadata": {
        "id": "mrS-ve46MgSl"
      },
      "source": [
        "**HANDWRITTEN EQUATION SOLVER USING CNN**"
      ]
    },
    {
      "cell_type": "markdown",
      "metadata": {
        "id": "UYlp5uj7Hj8c"
      },
      "source": [
        "Importing Reqd Libraries and tools"
      ]
    },
    {
      "cell_type": "code",
      "metadata": {
        "id": "VDBPzuyDpXej"
      },
      "source": [
        "import numpy as np \n",
        "import pandas as pd\n",
        "import tensorflow as tf\n",
        "from sklearn.model_selection import train_test_split\n",
        "from keras.utils.np_utils import to_categorical\n",
        "#converts the numpy values to binary\n",
        "import seaborn as sns"
      ],
      "execution_count": 52,
      "outputs": []
    },
    {
      "cell_type": "code",
      "metadata": {
        "id": "ZdLTcZ8UqiXW"
      },
      "source": [
        "np.random.seed(2)"
      ],
      "execution_count": 53,
      "outputs": []
    },
    {
      "cell_type": "markdown",
      "metadata": {
        "id": "2EqR1CVPHpuk"
      },
      "source": [
        "Uploading and Extracting Dataset using Google Drive.\n",
        "Dataset has been downloaded from MNIST dataset and consists of approximately 85k images for raw dataset. Each image is 28x28 pixels. They have been encoded as 10 (/), 11(+),12(-), 13(*)"
      ]
    },
    {
      "cell_type": "code",
      "metadata": {
        "id": "KZu-qSHjr39E"
      },
      "source": [
        "from google.colab import drive\n",
        "#drive.mount('/content/drive')"
      ],
      "execution_count": 54,
      "outputs": []
    },
    {
      "cell_type": "code",
      "metadata": {
        "colab": {
          "base_uri": "https://localhost:8080/"
        },
        "id": "hS5y_utfupL3",
        "outputId": "4db94b87-5b0d-4a20-a19a-ba62788cd5a2"
      },
      "source": [
        "from google.colab import drive\n",
        "drive.mount('/content/drive')"
      ],
      "execution_count": 55,
      "outputs": [
        {
          "output_type": "stream",
          "name": "stdout",
          "text": [
            "Drive already mounted at /content/drive; to attempt to forcibly remount, call drive.mount(\"/content/drive\", force_remount=True).\n"
          ]
        }
      ]
    },
    {
      "cell_type": "code",
      "metadata": {
        "id": "8MSk5tWavVuC"
      },
      "source": [
        "dataset=pd.read_csv('/content/drive/MyDrive/Netra Hirani/EquationSolver_dataset.csv')"
      ],
      "execution_count": 56,
      "outputs": []
    },
    {
      "cell_type": "code",
      "metadata": {
        "id": "aw0byrbGwlxS"
      },
      "source": [
        "#creating label\n",
        "y = dataset[\"label\"]"
      ],
      "execution_count": 57,
      "outputs": []
    },
    {
      "cell_type": "code",
      "metadata": {
        "id": "5q45-tfmwpQU"
      },
      "source": [
        "#dropping label\n",
        "X = dataset.drop(labels = [\"label\"], axis = 1)"
      ],
      "execution_count": 58,
      "outputs": []
    },
    {
      "cell_type": "code",
      "metadata": {
        "id": "7hOX7Oa0wywU"
      },
      "source": [
        "#deleting dataset to reduce memory usage\n",
        "del dataset"
      ],
      "execution_count": 59,
      "outputs": []
    },
    {
      "cell_type": "code",
      "metadata": {
        "colab": {
          "base_uri": "https://localhost:8080/",
          "height": 617
        },
        "id": "5huphi7dwzns",
        "outputId": "34e52b74-ad33-43ae-904f-961275be2781"
      },
      "source": [
        "#visualizing the dataset\n",
        "g = sns.countplot(y)\n",
        "y.value_counts()"
      ],
      "execution_count": 60,
      "outputs": [
        {
          "output_type": "stream",
          "name": "stderr",
          "text": [
            "/usr/local/lib/python3.7/dist-packages/seaborn/_decorators.py:43: FutureWarning: Pass the following variable as a keyword arg: x. From version 0.12, the only valid positional argument will be `data`, and passing other arguments without an explicit keyword will result in an error or misinterpretation.\n",
            "  FutureWarning\n"
          ]
        },
        {
          "output_type": "execute_result",
          "data": {
            "text/plain": [
              "11    22164\n",
              "12    21387\n",
              "1      4684\n",
              "7      4401\n",
              "3      4351\n",
              "9      4188\n",
              "2      4177\n",
              "6      4137\n",
              "0      4132\n",
              "4      4072\n",
              "8      4063\n",
              "5      3795\n",
              "13       80\n",
              "10       78\n",
              "Name: label, dtype: int64"
            ]
          },
          "metadata": {},
          "execution_count": 60
        },
        {
          "output_type": "display_data",
          "data": {
            "image/png": "[encoded data removed]",
            "text/plain": [
              "<Figure size 432x288 with 1 Axes>"
            ]
          },
          "metadata": {
            "needs_background": "light"
          }
        }
      ]
    },
    {
      "cell_type": "code",
      "metadata": {
        "id": "-cU5jG80w1VO"
      },
      "source": [
        "#Grayscale normalization to reduce the effect of illumination differences.\n",
        "#Grayscale normalization is used to bring all the images with intensity values into a specific range \n",
        "X = X / 255.0"
      ],
      "execution_count": 61,
      "outputs": []
    },
    {
      "cell_type": "code",
      "metadata": {
        "id": "KIGORT7Uw4rQ"
      },
      "source": [
        "#reshaping the dataset [size, height, width, channels = 1 due to grayscale].\n",
        "X = X.values.reshape(-1,28,28,1)"
      ],
      "execution_count": 62,
      "outputs": []
    },
    {
      "cell_type": "code",
      "metadata": {
        "id": "7KLFduJzw5iX"
      },
      "source": [
        "#categorical conversion of label\n",
        "y = to_categorical(y, num_classes = 14)"
      ],
      "execution_count": 63,
      "outputs": []
    },
    {
      "cell_type": "code",
      "metadata": {
        "id": "iz1E_cEGw7R1"
      },
      "source": [
        "#90% Training and 10% Validation split\n",
        "random_seed = 2\n",
        "X_train, X_val, y_train, y_val = train_test_split(X, y, test_size = 0.1 , random_state = random_seed, stratify = y)"
      ],
      "execution_count": 64,
      "outputs": []
    },
    {
      "cell_type": "markdown",
      "metadata": {
        "id": "LTQuDi2ZJAcV"
      },
      "source": [
        "Building CNN model"
      ]
    },
    {
      "cell_type": "code",
      "metadata": {
        "id": "c1EAatTDw9z_"
      },
      "source": [
        "from keras.models import Sequential\n",
        "from keras.layers import Dense, Dropout, Flatten, Conv2D, MaxPool2D\n",
        "#Conv2D filters extend through the three channels in an image (Red, Green, and Blue). \n",
        "#The filters may be different for each channel too.\n",
        "#Max pooling selects the brighter pixels from the image.\n",
        "from tensorflow.keras.optimizers import RMSprop #rootmeansquare\n",
        "from keras.preprocessing.image import ImageDataGenerator\n",
        "from keras.callbacks import ReduceLROnPlateau #reduce learning rate\n",
        "#This callback monitors a quantity and if no improvement is seen for a 'patience' number of epochs, \n",
        "#the learning rate is reduced.\n",
        "from tensorflow import keras"
      ],
      "execution_count": 65,
      "outputs": []
    },
    {
      "cell_type": "code",
      "metadata": {
        "id": "iEcABHO7xADj"
      },
      "source": [
        "#creating the instance of the model\n",
        "model = Sequential()"
      ],
      "execution_count": 66,
      "outputs": []
    },
    {
      "cell_type": "code",
      "metadata": {
        "id": "kGrbtbh9xDGR"
      },
      "source": [
        "#adding layers to the model\n",
        "#Layer: 1\n",
        "#Mandatory Conv2D parameter is the numbers of filters that convolutional layers will learn from.\n",
        "model.add(Conv2D(filters = 32, kernel_size = (5,5), padding = \"Same\", activation = \"relu\", input_shape = (28, 28, 1)))\n",
        "#we are learning from 32 filters, kernel size is specifying the height and width of the convolution window\n",
        "#activation is simply here for convenience stating which activation will be performed after convolution \n",
        "model.add(Conv2D(filters = 32, kernel_size = (5,5), padding = \"Same\", activation = \"relu\"))\n",
        "model.add(MaxPool2D(pool_size = (2,2)))\n",
        "#maxpool is here to reduce the spatial dimensions of the output\n",
        "model.add(Dropout(0.25))\n",
        "#dropout for regularization. i.e. prevent overfitting"
      ],
      "execution_count": 67,
      "outputs": []
    },
    {
      "cell_type": "code",
      "metadata": {
        "id": "G4qJeYdixFCd"
      },
      "source": [
        "#Layer: 2\n",
        "model.add(Conv2D(filters = 64, kernel_size = (3,3), padding = \"Same\", activation = \"relu\"))\n",
        "model.add(Conv2D(filters = 64, kernel_size = (3,3), padding = \"Same\", activation = \"relu\"))\n",
        "model.add(MaxPool2D(pool_size = (2,2)))\n",
        "model.add(Dropout(0.25))"
      ],
      "execution_count": null,
      "outputs": []
    },
    {
      "cell_type": "code",
      "metadata": {
        "id": "dm3eRFSqxHXy"
      },
      "source": [
        "#fully connected layer and output\n",
        "model.add(Flatten())\n",
        "#flattens multi-dimensional output to single dimension\n",
        "model.add(Dense(256, activation = \"relu\"))\n",
        "#fully connected layer. Sort of adds a hidden layer and neuron by neuron collectively passes to the o/p layer\n",
        "model.add(Dropout(0.25))\n",
        "model.add(Dense(14, activation = \"softmax\"))"
      ],
      "execution_count": 68,
      "outputs": []
    },
    {
      "cell_type": "code",
      "metadata": {
        "colab": {
          "base_uri": "https://localhost:8080/"
        },
        "id": "kSO_8lU0xI81",
        "outputId": "042ad392-54af-42b8-ec1c-7f58544e15c0"
      },
      "source": [
        "#Set the optimizer\n",
        "optimizer = RMSprop(lr = 0.001, rho = 0.9, epsilon = 1e-08, decay=0.0 )\n",
        "\n",
        "model.compile(optimizer = optimizer, loss = \"categorical_crossentropy\", metrics = [\"accuracy\"])\n",
        "\n",
        "learning_rate_reduction = ReduceLROnPlateau(monitor = \"val_accuracy\",\n",
        "                                            patience = 3,\n",
        "                                            verbose = 1,\n",
        "                                            factor = 0.5,\n",
        "                                            min_lr = 0.0001)"
      ],
      "execution_count": 69,
      "outputs": [
        {
          "output_type": "stream",
          "name": "stderr",
          "text": [
            "/usr/local/lib/python3.7/dist-packages/keras/optimizer_v2/optimizer_v2.py:356: UserWarning: The `lr` argument is deprecated, use `learning_rate` instead.\n",
            "  \"The `lr` argument is deprecated, use `learning_rate` instead.\")\n"
          ]
        }
      ]
    },
    {
      "cell_type": "code",
      "metadata": {
        "id": "gESU7c4KxLGP"
      },
      "source": [
        "#data augmentation\n",
        "datagen = ImageDataGenerator(\n",
        "        featurewise_center=False,  # set input mean to 0 over the dataset\n",
        "        samplewise_center=False,  # set each sample mean to 0\n",
        "        featurewise_std_normalization=False,  # divide inputs by std of the dataset\n",
        "        samplewise_std_normalization=False,  # divide each input by its std\n",
        "        zca_whitening=False,  # apply ZCA whitening\n",
        "        rotation_range=10,  # randomly rotate images in the range (degrees, 0 to 180)\n",
        "        zoom_range = 0.1, # Randomly zoom image \n",
        "        width_shift_range=0.1,  # randomly shift images horizontally (fraction of total width)\n",
        "        height_shift_range=0.1,  # randomly shift images vertically (fraction of total height)\n",
        "        horizontal_flip=False,  # randomly flip images\n",
        "        vertical_flip=False)  # randomly flip images"
      ],
      "execution_count": null,
      "outputs": []
    },
    {
      "cell_type": "code",
      "metadata": {
        "colab": {
          "background_save": true,
          "base_uri": "https://localhost:8080/"
        },
        "id": "f882x0fbxPWq",
        "outputId": "dc47ab55-5b61-40b9-c268-76f4fd67f366"
      },
      "source": [
        "datagen.fit(X_train)\n",
        "#fitting the model\n",
        "epochs = 5\n",
        "batch_size = 86\n",
        "\n",
        "history = model.fit_generator(\n",
        "                                datagen.flow(X_train,y_train, batch_size=batch_size),\n",
        "                                epochs = epochs, #An epoch is an iteration over the entire x and y data provided\n",
        "                                validation_data = (X_val,y_val), #Data on which to evaluate the loss and any model metrics at the end of each epoch. \n",
        "                                verbose = 2, #output\n",
        "                                steps_per_epoch=X_train.shape[0] // batch_size,  # Total number of steps (batches of samples) before declaring one epoch finished and starting the next epoch.\n",
        "                                callbacks=[learning_rate_reduction]                            \n",
        "                              )"
      ],
      "execution_count": null,
      "outputs": [
        {
          "name": "stderr",
          "output_type": "stream",
          "text": [
            "/usr/local/lib/python3.7/dist-packages/keras/engine/training.py:1972: UserWarning: `Model.fit_generator` is deprecated and will be removed in a future version. Please use `Model.fit`, which supports generators.\n",
            "  warnings.warn('`Model.fit_generator` is deprecated and '\n"
          ]
        },
        {
          "name": "stdout",
          "output_type": "stream",
          "text": [
            "Epoch 1/5\n",
            "896/896 - 505s - loss: 0.2911 - accuracy: 0.9098 - val_loss: 0.0491 - val_accuracy: 0.9870\n",
            "Epoch 2/5\n",
            "896/896 - 505s - loss: 0.0805 - accuracy: 0.9760 - val_loss: 0.0323 - val_accuracy: 0.9905\n",
            "Epoch 3/5\n",
            "896/896 - 505s - loss: 0.0634 - accuracy: 0.9817 - val_loss: 0.0386 - val_accuracy: 0.9887\n",
            "Epoch 4/5\n",
            "896/896 - 504s - loss: 0.0567 - accuracy: 0.9835 - val_loss: 0.0331 - val_accuracy: 0.9915\n",
            "Epoch 5/5\n",
            "896/896 - 502s - loss: 0.0560 - accuracy: 0.9845 - val_loss: 0.0340 - val_accuracy: 0.9914\n"
          ]
        }
      ]
    },
    {
      "cell_type": "markdown",
      "metadata": {
        "id": "f3oQckACLuFq"
      },
      "source": [
        "We need to save the model before we continue to later deploy and apply. We plan to do so using a .h5 extension since HDF5 uses a \"file directory\" like structure that allows you to organize data within the file in many different structured ways."
      ]
    },
    {
      "cell_type": "code",
      "metadata": {
        "id": "Afbo7wuFCwuO"
      },
      "source": [
        "from PIL import Image\n",
        "#PIL is Python Imaging Library\n",
        "from itertools import groupby\n",
        "#itertools are fast, memory-efficient tools\n",
        "#groupby- This method calculates the keys for each element present in iterable. "
      ],
      "execution_count": 34,
      "outputs": []
    },
    {
      "cell_type": "code",
      "metadata": {
        "id": "zYmZIiY9C6AV"
      },
      "source": [
        "image = Image.open(\"/content/drive/MyDrive/Netra Hirani/testing.png\").convert(\"L\")"
      ],
      "execution_count": 35,
      "outputs": []
    },
    {
      "cell_type": "code",
      "metadata": {
        "id": "1UXLH6ScD7VY"
      },
      "source": [
        "#resizing to 28 height pixels\n",
        "w = image.size[0]\n",
        "h = image.size[1]\n",
        "r = w / h # aspect ratio\n",
        "new_w = int(r * 28)\n",
        "new_h = 28\n",
        "new_image = image.resize((new_w, new_h))"
      ],
      "execution_count": 37,
      "outputs": []
    },
    {
      "cell_type": "code",
      "metadata": {
        "id": "SlEFNn6SD8cD"
      },
      "source": [
        "#converting to a numpy array\n",
        "new_image_arr = np.array(new_image)"
      ],
      "execution_count": 38,
      "outputs": []
    },
    {
      "cell_type": "code",
      "metadata": {
        "id": "et6DVoj1D_WU"
      },
      "source": [
        "#inverting the image to make background = 0\n",
        "new_inv_image_arr = 255 - new_image_arr"
      ],
      "execution_count": 39,
      "outputs": []
    },
    {
      "cell_type": "code",
      "metadata": {
        "id": "6EA9OJm3EBxt"
      },
      "source": [
        "#rescaling the image\n",
        "final_image_arr = new_inv_image_arr / 255.0"
      ],
      "execution_count": 40,
      "outputs": []
    },
    {
      "cell_type": "markdown",
      "metadata": {
        "id": "2LGkFBz1ME_F"
      },
      "source": [
        "Further OCR and parsing of the image needs to be done. We need to resize then and then finally predict the uploaded equation before sending it to the multidigit calculator. "
      ]
    },
    {
      "cell_type": "code",
      "metadata": {
        "id": "NjrUjJ1txRjf"
      },
      "source": [
        "#mathematical operations\n",
        "def math_expression_generator(arr):\n",
        "    \n",
        "    op = {\n",
        "              10,   # = \"/\"\n",
        "              11,   # = \"+\"\n",
        "              12,   # = \"-\"\n",
        "              13    # = \"*\"\n",
        "                  }   \n",
        "    \n",
        "    m_exp = []\n",
        "    temp = []\n",
        "        \n",
        "    #creating a list separating all elements\n",
        "    for item in arr:\n",
        "        if item not in op:\n",
        "            temp.append(item)\n",
        "        else:\n",
        "            m_exp.append(temp)\n",
        "            m_exp.append(item)\n",
        "            temp = []\n",
        "    if temp:\n",
        "        m_exp.append(temp)\n",
        "        \n",
        "    #converting the elements to numbers and operators\n",
        "    i = 0\n",
        "    num = 0\n",
        "    for item in m_exp:\n",
        "        if type(item) == list:\n",
        "            if not item:\n",
        "                m_exp[i] = \"\"\n",
        "                i = i + 1\n",
        "            else:\n",
        "                num_len = len(item)\n",
        "                for digit in item:\n",
        "                    num_len = num_len - 1\n",
        "                    num = num + ((10 ** num_len) * digit)\n",
        "                m_exp[i] = str(num)\n",
        "                num = 0\n",
        "                i = i + 1\n",
        "        else:\n",
        "            m_exp[i] = str(item)\n",
        "            m_exp[i] = m_exp[i].replace(\"10\",\"/\")\n",
        "            m_exp[i] = m_exp[i].replace(\"11\",\"+\")\n",
        "            m_exp[i] = m_exp[i].replace(\"12\",\"-\")\n",
        "            m_exp[i] = m_exp[i].replace(\"13\",\"*\")\n",
        "            \n",
        "            i = i + 1\n",
        "    \n",
        "    #joining the list of strings to create the mathematical expression\n",
        "    separator = ' '\n",
        "    m_exp_str = separator.join(m_exp)\n",
        "    \n",
        "    return (m_exp_str)\n",
        "\n",
        "#creating the mathematical expression\n",
        "    m_exp_str = math_expression_generator(elements_pred)\n",
        "\n",
        "    'calculating the mathematical expression using eval()'\n",
        "    while True:\n",
        "      try:\n",
        "        answer = eval(m_exp_str)    #evaluating the answer\n",
        "        answer = round(answer, 2)\n",
        "        equation  = m_exp_str + \" = \" + str(answer)\n",
        "        print(equation)   #printing the equation\n",
        "        break\n",
        "\n",
        "      except SyntaxError:\n",
        "        print(\"Invalid predicted expression!!\")\n",
        "        print(\"Following is the predicted expression:\")\n",
        "        print(m_exp_str)\n",
        "        break"
      ],
      "execution_count": 50,
      "outputs": []
    }
  ]
}